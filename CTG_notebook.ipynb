{
  "nbformat": 4,
  "nbformat_minor": 0,
  "metadata": {
    "colab": {
      "provenance": [],
      "authorship_tag": "ABX9TyPKhxZayC1LErtp/Sl6Jd64",
      "include_colab_link": true
    },
    "kernelspec": {
      "name": "python3",
      "display_name": "Python 3"
    },
    "language_info": {
      "name": "python"
    }
  },
  "cells": [
    {
      "cell_type": "markdown",
      "metadata": {
        "id": "view-in-github",
        "colab_type": "text"
      },
      "source": [
        "<a href=\"https://colab.research.google.com/github/dpasierbiewicz/Cardiotocography_Fetus_Classification/blob/main/CTG_notebook.ipynb\" target=\"_parent\"><img src=\"https://colab.research.google.com/assets/colab-badge.svg\" alt=\"Open In Colab\"/></a>"
      ]
    },
    {
      "cell_type": "markdown",
      "source": [
        "##Data Import and beggining of cleaning\n"
      ],
      "metadata": {
        "id": "td7CWUKFP3zL"
      }
    },
    {
      "cell_type": "code",
      "execution_count": 30,
      "metadata": {
        "colab": {
          "base_uri": "https://localhost:8080/"
        },
        "id": "gyVa6qVy7vEw",
        "outputId": "76d4c31a-285a-44b7-f303-89f098649fdb"
      },
      "outputs": [
        {
          "output_type": "stream",
          "name": "stdout",
          "text": [
            "0    b     e AC FM UC DL DS DP DR NaN  ...   E  AD  DE  LD  FS SUSP NaN CLASS  \\\n",
            "1  240   357  0  0  0  0  0  0  0 NaN  ...  -1  -1  -1  -1   1   -1 NaN     9   \n",
            "2    5   632  4  0  4  2  0  0  0 NaN  ...  -1   1  -1  -1  -1   -1 NaN     6   \n",
            "3  177   779  2  0  5  2  0  0  0 NaN  ...  -1   1  -1  -1  -1   -1 NaN     6   \n",
            "4  411  1192  2  0  6  2  0  0  0 NaN  ...  -1   1  -1  -1  -1   -1 NaN     6   \n",
            "5  533  1147  4  0  5  0  0  0  0 NaN  ...  -1  -1  -1  -1  -1   -1 NaN     2   \n",
            "\n",
            "0 NaN NSP  \n",
            "1 NaN   2  \n",
            "2 NaN   1  \n",
            "3 NaN   1  \n",
            "4 NaN   1  \n",
            "5 NaN   1  \n",
            "\n",
            "[5 rows x 46 columns]\n"
          ]
        }
      ],
      "source": [
        "import pandas as pd\n",
        "\n",
        "url = 'https://github.com/dpasierbiewicz/Cardiotocography_Fetus_Classification/raw/225121f344eaf9619a05f0ccdd146e4435a4afcc/CTG.xls'\n",
        "\n",
        "df = pd.read_excel(url, sheet_name='Data')\n",
        "\n",
        "#column setup\n",
        "df.columns = df.iloc[0]\n",
        "df = df[1:]\n",
        "\n",
        "print(df.head())\n"
      ]
    },
    {
      "cell_type": "code",
      "source": [
        "print(df.columns)\n",
        "len(df.columns)\n"
      ],
      "metadata": {
        "colab": {
          "base_uri": "https://localhost:8080/"
        },
        "id": "kyG2Fm8y80al",
        "outputId": "32883b81-8c99-42c0-8228-d6935777a9ac"
      },
      "execution_count": 31,
      "outputs": [
        {
          "output_type": "stream",
          "name": "stdout",
          "text": [
            "Index([       'b',        'e',       'AC',       'FM',       'UC',       'DL',\n",
            "             'DS',       'DP',       'DR',        nan,       'LB',       'AC',\n",
            "             'FM',       'UC',       'DL',       'DS',       'DP',     'ASTV',\n",
            "           'MSTV',     'ALTV',     'MLTV',    'Width',      'Min',      'Max',\n",
            "           'Nmax',   'Nzeros',     'Mode',     'Mean',   'Median', 'Variance',\n",
            "       'Tendency',        nan,        'A',        'B',        'C',        'D',\n",
            "              'E',       'AD',       'DE',       'LD',       'FS',     'SUSP',\n",
            "              nan,    'CLASS',        nan,      'NSP'],\n",
            "      dtype='object', name=0)\n"
          ]
        },
        {
          "output_type": "execute_result",
          "data": {
            "text/plain": [
              "46"
            ]
          },
          "metadata": {},
          "execution_count": 31
        }
      ]
    },
    {
      "cell_type": "code",
      "source": [
        "#deleting #NaN columns\n",
        "df = df.dropna(how='all', axis=1)"
      ],
      "metadata": {
        "id": "8gPRhYLe-j-0"
      },
      "execution_count": 32,
      "outputs": []
    },
    {
      "cell_type": "code",
      "source": [
        "len(df.columns)"
      ],
      "metadata": {
        "colab": {
          "base_uri": "https://localhost:8080/"
        },
        "id": "RmUA8SvW_iLe",
        "outputId": "a7b1bb45-8886-44f4-f489-9e85d106ea76"
      },
      "execution_count": 33,
      "outputs": [
        {
          "output_type": "execute_result",
          "data": {
            "text/plain": [
              "42"
            ]
          },
          "metadata": {},
          "execution_count": 33
        }
      ]
    },
    {
      "cell_type": "code",
      "source": [
        "#deleting columns with duplicate name\n",
        "df = df.loc[:, ~df.columns.duplicated(keep='last')]\n",
        "\n",
        "print(df.columns)\n",
        "len(df.columns)"
      ],
      "metadata": {
        "colab": {
          "base_uri": "https://localhost:8080/"
        },
        "id": "pl3TkodvAunC",
        "outputId": "ff63caec-72dd-47a0-d516-a43fcdd38948"
      },
      "execution_count": 34,
      "outputs": [
        {
          "output_type": "stream",
          "name": "stdout",
          "text": [
            "Index(['b', 'e', 'DR', 'LB', 'AC', 'FM', 'UC', 'DL', 'DS', 'DP', 'ASTV',\n",
            "       'MSTV', 'ALTV', 'MLTV', 'Width', 'Min', 'Max', 'Nmax', 'Nzeros', 'Mode',\n",
            "       'Mean', 'Median', 'Variance', 'Tendency', 'A', 'B', 'C', 'D', 'E', 'AD',\n",
            "       'DE', 'LD', 'FS', 'SUSP', 'CLASS', 'NSP'],\n",
            "      dtype='object', name=0)\n"
          ]
        },
        {
          "output_type": "execute_result",
          "data": {
            "text/plain": [
              "36"
            ]
          },
          "metadata": {},
          "execution_count": 34
        }
      ]
    },
    {
      "cell_type": "code",
      "source": [
        "df[\"DR\"].max()\n",
        "#Because in this feature there is always zero this feature will be deleted along with columns that are not needed for this classification"
      ],
      "metadata": {
        "colab": {
          "base_uri": "https://localhost:8080/"
        },
        "id": "wN-By8gzOeMB",
        "outputId": "9ba96244-cf2f-4a78-845f-e3c6c16cf148"
      },
      "execution_count": 35,
      "outputs": [
        {
          "output_type": "execute_result",
          "data": {
            "text/plain": [
              "0"
            ]
          },
          "metadata": {},
          "execution_count": 35
        }
      ]
    },
    {
      "cell_type": "code",
      "source": [
        "df = df.drop(['b', 'e', 'DR', 'A', 'B', 'C', 'D', 'E', 'AD', 'DE', 'LD', 'FS', 'SUSP', 'CLASS'], axis=1)"
      ],
      "metadata": {
        "id": "F8pRP3qcNcj4"
      },
      "execution_count": 36,
      "outputs": []
    },
    {
      "cell_type": "code",
      "source": [
        "print(df.columns)\n",
        "len(df.columns)"
      ],
      "metadata": {
        "colab": {
          "base_uri": "https://localhost:8080/"
        },
        "id": "nkXCTomVOY27",
        "outputId": "24d848e8-9d44-42e0-e756-7cb4646f1a42"
      },
      "execution_count": 37,
      "outputs": [
        {
          "output_type": "stream",
          "name": "stdout",
          "text": [
            "Index(['LB', 'AC', 'FM', 'UC', 'DL', 'DS', 'DP', 'ASTV', 'MSTV', 'ALTV',\n",
            "       'MLTV', 'Width', 'Min', 'Max', 'Nmax', 'Nzeros', 'Mode', 'Mean',\n",
            "       'Median', 'Variance', 'Tendency', 'NSP'],\n",
            "      dtype='object', name=0)\n"
          ]
        },
        {
          "output_type": "execute_result",
          "data": {
            "text/plain": [
              "22"
            ]
          },
          "metadata": {},
          "execution_count": 37
        }
      ]
    },
    {
      "cell_type": "code",
      "source": [],
      "metadata": {
        "id": "XZrS_geeOb3k"
      },
      "execution_count": 37,
      "outputs": []
    }
  ]
}