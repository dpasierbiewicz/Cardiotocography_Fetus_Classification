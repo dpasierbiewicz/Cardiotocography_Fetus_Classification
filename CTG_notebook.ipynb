{
  "nbformat": 4,
  "nbformat_minor": 0,
  "metadata": {
    "colab": {
      "provenance": [],
      "authorship_tag": "ABX9TyO3fXe7PHpudI+8mQ3w8Ry2",
      "include_colab_link": true
    },
    "kernelspec": {
      "name": "python3",
      "display_name": "Python 3"
    },
    "language_info": {
      "name": "python"
    }
  },
  "cells": [
    {
      "cell_type": "markdown",
      "metadata": {
        "id": "view-in-github",
        "colab_type": "text"
      },
      "source": [
        "<a href=\"https://colab.research.google.com/github/dpasierbiewicz/Cardiotocography_Fetus_Classification/blob/main/CTG_notebook.ipynb\" target=\"_parent\"><img src=\"https://colab.research.google.com/assets/colab-badge.svg\" alt=\"Open In Colab\"/></a>"
      ]
    },
    {
      "cell_type": "code",
      "execution_count": 7,
      "metadata": {
        "colab": {
          "base_uri": "https://localhost:8080/"
        },
        "id": "gyVa6qVy7vEw",
        "outputId": "7f927e8c-933b-4596-d411-f4204f679dd0"
      },
      "outputs": [
        {
          "output_type": "stream",
          "name": "stdout",
          "text": [
            "0    b     e AC FM UC DL DS DP DR NaN  ...   E  AD  DE  LD  FS SUSP NaN CLASS  \\\n",
            "1  240   357  0  0  0  0  0  0  0 NaN  ...  -1  -1  -1  -1   1   -1 NaN     9   \n",
            "2    5   632  4  0  4  2  0  0  0 NaN  ...  -1   1  -1  -1  -1   -1 NaN     6   \n",
            "3  177   779  2  0  5  2  0  0  0 NaN  ...  -1   1  -1  -1  -1   -1 NaN     6   \n",
            "4  411  1192  2  0  6  2  0  0  0 NaN  ...  -1   1  -1  -1  -1   -1 NaN     6   \n",
            "5  533  1147  4  0  5  0  0  0  0 NaN  ...  -1  -1  -1  -1  -1   -1 NaN     2   \n",
            "\n",
            "0 NaN NSP  \n",
            "1 NaN   2  \n",
            "2 NaN   1  \n",
            "3 NaN   1  \n",
            "4 NaN   1  \n",
            "5 NaN   1  \n",
            "\n",
            "[5 rows x 46 columns]\n"
          ]
        }
      ],
      "source": [
        "import pandas as pd\n",
        "\n",
        "# URL do pliku Excel na GitHub (link Raw)\n",
        "url = 'https://github.com/dpasierbiewicz/Cardiotocography_Fetus_Classification/raw/225121f344eaf9619a05f0ccdd146e4435a4afcc/CTG.xls'\n",
        "\n",
        "# Wczytanie pliku Excel\n",
        "df = pd.read_excel(url, sheet_name='Data')\n",
        "\n",
        "df.columns = df.iloc[0]\n",
        "df = df[1:]\n",
        "\n",
        "#df.reset_index(drop=True, inplace=True)\n",
        "\n",
        "# Wyświetlenie danych\n",
        "print(df.head())\n"
      ]
    },
    {
      "cell_type": "code",
      "source": [
        "print(df.columns)\n",
        "len(df.columns)\n"
      ],
      "metadata": {
        "colab": {
          "base_uri": "https://localhost:8080/"
        },
        "id": "kyG2Fm8y80al",
        "outputId": "bd703f12-dcea-42de-8697-cfbc0ee6b4c6"
      },
      "execution_count": 16,
      "outputs": [
        {
          "output_type": "stream",
          "name": "stdout",
          "text": [
            "Index([       'b',        'e',       'AC',       'FM',       'UC',       'DL',\n",
            "             'DS',       'DP',       'DR',        nan,       'LB',       'AC',\n",
            "             'FM',       'UC',       'DL',       'DS',       'DP',     'ASTV',\n",
            "           'MSTV',     'ALTV',     'MLTV',    'Width',      'Min',      'Max',\n",
            "           'Nmax',   'Nzeros',     'Mode',     'Mean',   'Median', 'Variance',\n",
            "       'Tendency',        nan,        'A',        'B',        'C',        'D',\n",
            "              'E',       'AD',       'DE',       'LD',       'FS',     'SUSP',\n",
            "              nan,    'CLASS',        nan,      'NSP'],\n",
            "      dtype='object', name=0)\n"
          ]
        },
        {
          "output_type": "execute_result",
          "data": {
            "text/plain": [
              "46"
            ]
          },
          "metadata": {},
          "execution_count": 16
        }
      ]
    },
    {
      "cell_type": "code",
      "source": [
        "df = df.dropna(how='all', axis=1)"
      ],
      "metadata": {
        "id": "8gPRhYLe-j-0"
      },
      "execution_count": 17,
      "outputs": []
    },
    {
      "cell_type": "code",
      "source": [
        "len(df.columns)"
      ],
      "metadata": {
        "colab": {
          "base_uri": "https://localhost:8080/"
        },
        "id": "RmUA8SvW_iLe",
        "outputId": "9dd9fe1c-f262-487b-e03e-d48fe32cbe98"
      },
      "execution_count": 18,
      "outputs": [
        {
          "output_type": "execute_result",
          "data": {
            "text/plain": [
              "42"
            ]
          },
          "metadata": {},
          "execution_count": 18
        }
      ]
    },
    {
      "cell_type": "code",
      "source": [],
      "metadata": {
        "id": "pl3TkodvAunC"
      },
      "execution_count": null,
      "outputs": []
    }
  ]
}