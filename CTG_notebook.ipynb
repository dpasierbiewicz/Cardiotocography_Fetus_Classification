{
  "nbformat": 4,
  "nbformat_minor": 0,
  "metadata": {
    "colab": {
      "provenance": [],
      "authorship_tag": "ABX9TyNwIM8/Knpqas81GcuSpSuf",
      "include_colab_link": true
    },
    "kernelspec": {
      "name": "python3",
      "display_name": "Python 3"
    },
    "language_info": {
      "name": "python"
    }
  },
  "cells": [
    {
      "cell_type": "markdown",
      "metadata": {
        "id": "view-in-github",
        "colab_type": "text"
      },
      "source": [
        "<a href=\"https://colab.research.google.com/github/dpasierbiewicz/Cardiotocography_Fetus_Classification/blob/main/CTG_notebook.ipynb\" target=\"_parent\"><img src=\"https://colab.research.google.com/assets/colab-badge.svg\" alt=\"Open In Colab\"/></a>"
      ]
    },
    {
      "cell_type": "markdown",
      "source": [
        "##Data Import and beggining of cleaning\n"
      ],
      "metadata": {
        "id": "td7CWUKFP3zL"
      }
    },
    {
      "cell_type": "code",
      "execution_count": 1,
      "metadata": {
        "colab": {
          "base_uri": "https://localhost:8080/"
        },
        "id": "gyVa6qVy7vEw",
        "outputId": "c762385b-7cad-46a8-c2de-c07d316d41b4"
      },
      "outputs": [
        {
          "output_type": "stream",
          "name": "stdout",
          "text": [
            "0    b     e AC FM UC DL DS DP DR NaN  ...   E  AD  DE  LD  FS SUSP NaN CLASS  \\\n",
            "1  240   357  0  0  0  0  0  0  0 NaN  ...  -1  -1  -1  -1   1   -1 NaN     9   \n",
            "2    5   632  4  0  4  2  0  0  0 NaN  ...  -1   1  -1  -1  -1   -1 NaN     6   \n",
            "3  177   779  2  0  5  2  0  0  0 NaN  ...  -1   1  -1  -1  -1   -1 NaN     6   \n",
            "4  411  1192  2  0  6  2  0  0  0 NaN  ...  -1   1  -1  -1  -1   -1 NaN     6   \n",
            "5  533  1147  4  0  5  0  0  0  0 NaN  ...  -1  -1  -1  -1  -1   -1 NaN     2   \n",
            "\n",
            "0 NaN NSP  \n",
            "1 NaN   2  \n",
            "2 NaN   1  \n",
            "3 NaN   1  \n",
            "4 NaN   1  \n",
            "5 NaN   1  \n",
            "\n",
            "[5 rows x 46 columns]\n"
          ]
        }
      ],
      "source": [
        "import pandas as pd\n",
        "\n",
        "url = 'https://github.com/dpasierbiewicz/Cardiotocography_Fetus_Classification/raw/225121f344eaf9619a05f0ccdd146e4435a4afcc/CTG.xls'\n",
        "\n",
        "df = pd.read_excel(url, sheet_name='Data')\n",
        "\n",
        "#column setup\n",
        "df.columns = df.iloc[0]\n",
        "df = df[1:]\n",
        "\n",
        "print(df.head())\n"
      ]
    },
    {
      "cell_type": "code",
      "source": [
        "print(df.columns)\n",
        "len(df.columns)\n"
      ],
      "metadata": {
        "colab": {
          "base_uri": "https://localhost:8080/"
        },
        "id": "kyG2Fm8y80al",
        "outputId": "c508f154-81b8-444f-c567-2ac047a75274"
      },
      "execution_count": 2,
      "outputs": [
        {
          "output_type": "stream",
          "name": "stdout",
          "text": [
            "Index([       'b',        'e',       'AC',       'FM',       'UC',       'DL',\n",
            "             'DS',       'DP',       'DR',        nan,       'LB',       'AC',\n",
            "             'FM',       'UC',       'DL',       'DS',       'DP',     'ASTV',\n",
            "           'MSTV',     'ALTV',     'MLTV',    'Width',      'Min',      'Max',\n",
            "           'Nmax',   'Nzeros',     'Mode',     'Mean',   'Median', 'Variance',\n",
            "       'Tendency',        nan,        'A',        'B',        'C',        'D',\n",
            "              'E',       'AD',       'DE',       'LD',       'FS',     'SUSP',\n",
            "              nan,    'CLASS',        nan,      'NSP'],\n",
            "      dtype='object', name=0)\n"
          ]
        },
        {
          "output_type": "execute_result",
          "data": {
            "text/plain": [
              "46"
            ]
          },
          "metadata": {},
          "execution_count": 2
        }
      ]
    },
    {
      "cell_type": "code",
      "source": [
        "#deleting #NaN columns\n",
        "df = df.dropna(how='all', axis=1)"
      ],
      "metadata": {
        "id": "8gPRhYLe-j-0"
      },
      "execution_count": 3,
      "outputs": []
    },
    {
      "cell_type": "code",
      "source": [
        "len(df.columns)"
      ],
      "metadata": {
        "colab": {
          "base_uri": "https://localhost:8080/"
        },
        "id": "RmUA8SvW_iLe",
        "outputId": "d159ff07-d289-4337-eb0e-a6bdceaf69e6"
      },
      "execution_count": 4,
      "outputs": [
        {
          "output_type": "execute_result",
          "data": {
            "text/plain": [
              "42"
            ]
          },
          "metadata": {},
          "execution_count": 4
        }
      ]
    },
    {
      "cell_type": "code",
      "source": [
        "#deleting columns with duplicate name\n",
        "df = df.loc[:, ~df.columns.duplicated(keep='last')]\n",
        "\n",
        "print(df.columns)\n",
        "len(df.columns)"
      ],
      "metadata": {
        "colab": {
          "base_uri": "https://localhost:8080/"
        },
        "id": "pl3TkodvAunC",
        "outputId": "19c0ef7a-71e2-4a67-b13c-ad33fc3fe9fd"
      },
      "execution_count": 5,
      "outputs": [
        {
          "output_type": "stream",
          "name": "stdout",
          "text": [
            "Index(['b', 'e', 'DR', 'LB', 'AC', 'FM', 'UC', 'DL', 'DS', 'DP', 'ASTV',\n",
            "       'MSTV', 'ALTV', 'MLTV', 'Width', 'Min', 'Max', 'Nmax', 'Nzeros', 'Mode',\n",
            "       'Mean', 'Median', 'Variance', 'Tendency', 'A', 'B', 'C', 'D', 'E', 'AD',\n",
            "       'DE', 'LD', 'FS', 'SUSP', 'CLASS', 'NSP'],\n",
            "      dtype='object', name=0)\n"
          ]
        },
        {
          "output_type": "execute_result",
          "data": {
            "text/plain": [
              "36"
            ]
          },
          "metadata": {},
          "execution_count": 5
        }
      ]
    },
    {
      "cell_type": "code",
      "source": [
        "df[\"DR\"].max()\n",
        "#Because in this feature there is always zero this feature will be deleted along with columns that are not needed for this classification"
      ],
      "metadata": {
        "colab": {
          "base_uri": "https://localhost:8080/"
        },
        "id": "wN-By8gzOeMB",
        "outputId": "fe12557d-2ec2-4c06-fc77-9d6faf05b628"
      },
      "execution_count": 6,
      "outputs": [
        {
          "output_type": "execute_result",
          "data": {
            "text/plain": [
              "0"
            ]
          },
          "metadata": {},
          "execution_count": 6
        }
      ]
    },
    {
      "cell_type": "code",
      "source": [
        "df = df.drop(['b', 'e', 'DR', 'A', 'B', 'C', 'D', 'E', 'AD', 'DE', 'LD', 'FS', 'SUSP', 'CLASS'], axis=1)"
      ],
      "metadata": {
        "id": "F8pRP3qcNcj4"
      },
      "execution_count": 7,
      "outputs": []
    },
    {
      "cell_type": "code",
      "source": [
        "print(df.columns)\n",
        "len(df.columns)"
      ],
      "metadata": {
        "colab": {
          "base_uri": "https://localhost:8080/"
        },
        "id": "nkXCTomVOY27",
        "outputId": "f68cf5ca-d03e-4d17-e6db-5bd2cd24e1e9"
      },
      "execution_count": 8,
      "outputs": [
        {
          "output_type": "stream",
          "name": "stdout",
          "text": [
            "Index(['LB', 'AC', 'FM', 'UC', 'DL', 'DS', 'DP', 'ASTV', 'MSTV', 'ALTV',\n",
            "       'MLTV', 'Width', 'Min', 'Max', 'Nmax', 'Nzeros', 'Mode', 'Mean',\n",
            "       'Median', 'Variance', 'Tendency', 'NSP'],\n",
            "      dtype='object', name=0)\n"
          ]
        },
        {
          "output_type": "execute_result",
          "data": {
            "text/plain": [
              "22"
            ]
          },
          "metadata": {},
          "execution_count": 8
        }
      ]
    },
    {
      "cell_type": "code",
      "source": [
        "nan_exists = df.isnull().values.any()\n",
        "nan_exists"
      ],
      "metadata": {
        "id": "XZrS_geeOb3k",
        "colab": {
          "base_uri": "https://localhost:8080/"
        },
        "outputId": "572668c0-dec0-4e48-fc96-d0a5166530ba"
      },
      "execution_count": 10,
      "outputs": [
        {
          "output_type": "execute_result",
          "data": {
            "text/plain": [
              "np.True_"
            ]
          },
          "metadata": {},
          "execution_count": 10
        }
      ]
    },
    {
      "cell_type": "code",
      "source": [
        "print(df.tail)"
      ],
      "metadata": {
        "colab": {
          "base_uri": "https://localhost:8080/"
        },
        "id": "MHyf2lVXxKqU",
        "outputId": "1810621b-71d2-4c70-ae6d-eb5a2ddb78d7"
      },
      "execution_count": 14,
      "outputs": [
        {
          "output_type": "stream",
          "name": "stdout",
          "text": [
            "<bound method NDFrame.tail of 0      LB        AC        FM        UC        DL        DS        DP ASTV  \\\n",
            "1     120         0         0         0         0         0         0   73   \n",
            "2     132   0.00638         0   0.00638   0.00319         0         0   17   \n",
            "3     133  0.003322         0  0.008306  0.003322         0         0   16   \n",
            "4     134  0.002561         0  0.007682  0.002561         0         0   16   \n",
            "5     132  0.006515         0  0.008143         0         0         0   16   \n",
            "...   ...       ...       ...       ...       ...       ...       ...  ...   \n",
            "2125  140  0.000679         0   0.00611         0         0         0   78   \n",
            "2126  142  0.001616  0.001616  0.008078         0         0         0   74   \n",
            "2127  NaN       NaN       NaN       NaN       NaN       NaN       NaN  NaN   \n",
            "2128  NaN       NaN       NaN       NaN         0         0         0  NaN   \n",
            "2129  NaN       NaN  0.480634  0.014925  0.015385  0.001353  0.005348   87   \n",
            "\n",
            "0    MSTV ALTV  ...  Min  Max Nmax Nzeros Mode Mean Median Variance Tendency  \\\n",
            "1     0.5   43  ...   62  126    2      0  120  137    121       73        1   \n",
            "2     2.1    0  ...   68  198    6      1  141  136    140       12        0   \n",
            "3     2.1    0  ...   68  198    5      1  141  135    138       13        0   \n",
            "4     2.4    0  ...   53  170   11      0  137  134    137       13        1   \n",
            "5     2.4    0  ...   53  170    9      0  137  136    138       11        1   \n",
            "...   ...  ...  ...  ...  ...  ...    ...  ...  ...    ...      ...      ...   \n",
            "2125  0.4   27  ...  103  169    6      0  152  147    151        4        1   \n",
            "2126  0.4   36  ...  117  159    2      1  145  143    145        1        0   \n",
            "2127  NaN  NaN  ...  NaN  NaN  NaN    NaN  NaN  NaN    NaN      NaN      NaN   \n",
            "2128  NaN  NaN  ...  NaN  NaN  NaN    NaN  NaN  NaN    NaN      NaN      NaN   \n",
            "2129    7   91  ...  NaN  NaN  NaN    NaN  NaN  NaN    NaN      NaN      NaN   \n",
            "\n",
            "0     NSP  \n",
            "1       2  \n",
            "2       1  \n",
            "3       1  \n",
            "4       1  \n",
            "5       1  \n",
            "...   ...  \n",
            "2125    2  \n",
            "2126    1  \n",
            "2127  NaN  \n",
            "2128  NaN  \n",
            "2129  NaN  \n",
            "\n",
            "[2129 rows x 22 columns]>\n"
          ]
        }
      ]
    },
    {
      "cell_type": "markdown",
      "source": [
        "### Last three rows of this dataset contains min and max values of some attributes so they were removed\n"
      ],
      "metadata": {
        "id": "ZVX9v4ahyoJY"
      }
    },
    {
      "cell_type": "code",
      "source": [
        "df = df.iloc[:-3]\n",
        "print(df.tail)"
      ],
      "metadata": {
        "colab": {
          "base_uri": "https://localhost:8080/"
        },
        "id": "YJF2NrmjxQcn",
        "outputId": "cd75f8d1-b452-4a46-a0e8-ec5aebcf9cbb"
      },
      "execution_count": 15,
      "outputs": [
        {
          "output_type": "stream",
          "name": "stdout",
          "text": [
            "<bound method NDFrame.tail of 0      LB        AC        FM        UC        DL DS DP ASTV MSTV ALTV  ...  \\\n",
            "1     120         0         0         0         0  0  0   73  0.5   43  ...   \n",
            "2     132   0.00638         0   0.00638   0.00319  0  0   17  2.1    0  ...   \n",
            "3     133  0.003322         0  0.008306  0.003322  0  0   16  2.1    0  ...   \n",
            "4     134  0.002561         0  0.007682  0.002561  0  0   16  2.4    0  ...   \n",
            "5     132  0.006515         0  0.008143         0  0  0   16  2.4    0  ...   \n",
            "...   ...       ...       ...       ...       ... .. ..  ...  ...  ...  ...   \n",
            "2122  140         0         0  0.007426         0  0  0   79  0.2   25  ...   \n",
            "2123  140  0.000775         0  0.006971         0  0  0   78  0.4   22  ...   \n",
            "2124  140   0.00098         0  0.006863         0  0  0   79  0.4   20  ...   \n",
            "2125  140  0.000679         0   0.00611         0  0  0   78  0.4   27  ...   \n",
            "2126  142  0.001616  0.001616  0.008078         0  0  0   74  0.4   36  ...   \n",
            "\n",
            "0     Min  Max Nmax Nzeros Mode Mean Median Variance Tendency NSP  \n",
            "1      62  126    2      0  120  137    121       73        1   2  \n",
            "2      68  198    6      1  141  136    140       12        0   1  \n",
            "3      68  198    5      1  141  135    138       13        0   1  \n",
            "4      53  170   11      0  137  134    137       13        1   1  \n",
            "5      53  170    9      0  137  136    138       11        1   1  \n",
            "...   ...  ...  ...    ...  ...  ...    ...      ...      ...  ..  \n",
            "2122  137  177    4      0  153  150    152        2        0   2  \n",
            "2123  103  169    6      0  152  148    151        3        1   2  \n",
            "2124  103  170    5      0  153  148    152        4        1   2  \n",
            "2125  103  169    6      0  152  147    151        4        1   2  \n",
            "2126  117  159    2      1  145  143    145        1        0   1  \n",
            "\n",
            "[2126 rows x 22 columns]>\n"
          ]
        }
      ]
    },
    {
      "cell_type": "markdown",
      "source": [
        "##Histograms\n",
        "\n",
        "### Now I want to know what values attributes have dependent on which class of fetus  they are, so I will make histograms for each attribute and then decide which attributes I will use to train the model\n",
        "\n",
        "###There are three possible classification of a fetus:\n",
        "###NSP = 1 - Normal, NSP = 2 - Suspect, NSP = 3 - Pathologic   \n",
        "\n"
      ],
      "metadata": {
        "id": "6YOS_ijly4oJ"
      }
    },
    {
      "cell_type": "code",
      "source": [
        "import matplotlib.pyplot as plt\n",
        "\n",
        "nsp_1 = df[df['NSP'] == 1]['LB']\n",
        "nsp_2 = df[df['NSP'] == 2]['LB']\n",
        "nsp_3 = df[df['NSP'] == 3]['LB']\n",
        "\n",
        "plt.hist(nsp_1, bins=15, alpha=0.6, label='NSP = 1', color='blue')\n",
        "plt.hist(nsp_2, bins=15, alpha=0.6, label='NSP = 2', color='green')\n",
        "plt.hist(nsp_3, bins=15, alpha=0.6, label='NSP = 3', color='red')\n",
        "\n",
        "plt.xlabel('LB')\n",
        "plt.ylabel('Frequency')\n",
        "plt.title('Histogram of LB by NSP values')\n",
        "plt.legend()\n",
        "\n",
        "plt.show()\n"
      ],
      "metadata": {
        "colab": {
          "base_uri": "https://localhost:8080/",
          "height": 472
        },
        "id": "I7lndQHrzcs1",
        "outputId": "2fdb04f5-1b14-42b5-9386-43dd0e96622f"
      },
      "execution_count": 22,
      "outputs": [
        {
          "output_type": "display_data",
          "data": {
            "text/plain": [
              "<Figure size 640x480 with 1 Axes>"
            ],
            "image/png": "[encoded data removed]"
          },
          "metadata": {}
        }
      ]
    },
    {
      "cell_type": "code",
      "source": [],
      "metadata": {
        "id": "uLAyocOu0Qp3"
      },
      "execution_count": 17,
      "outputs": []
    },
    {
      "cell_type": "code",
      "source": [],
      "metadata": {
        "id": "g_EBSfPf0Xrh"
      },
      "execution_count": null,
      "outputs": []
    }
  ]
}